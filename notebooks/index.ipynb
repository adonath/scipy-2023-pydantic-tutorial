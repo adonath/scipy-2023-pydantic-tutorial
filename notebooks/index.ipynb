{
 "cells": [
  {
   "attachments": {},
   "cell_type": "markdown",
   "metadata": {},
   "source": [
    "This is the page with the rendered tutorials.\n",
    "\n",
    "## Content Overview\n",
    "\n",
    "  1. [Introduction and Installation](1-introduction-and-installation)\n",
    "  2. [Basic Usage](2-basic-usage)\n",
    "  3. [Advanced Usage](3-advanced-usage)\n",
    "  4. [Serialisation and Deserialisation](4-serialisation-and-deserialisation)\n",
    "  5. [Summary and Conclusion](5-summary-and-conclusion)"
   ]
  }
 ],
 "metadata": {
  "language_info": {
   "name": "python"
  }
 },
 "nbformat": 4,
 "nbformat_minor": 2
}
