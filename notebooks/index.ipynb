{
 "cells": [
  {
   "attachments": {},
   "cell_type": "markdown",
   "metadata": {},
   "source": [
    "# SciPy 2023 Pydantic Tutorial Page\n",
    "\n",
    "This is the page with the rendered tutorials.\n",
    "\n",
    "## Content Overview\n",
    "\n",
    "  1. [Introduction and Installation](notebooks/1-introduction-and-installation)\n",
    "  2. [Basic Usage](notebooks/2-basic-usage)\n",
    "  3. [Advanced Usage](notebooks/3-advanced-usage)\n",
    "  4. [Serialisation and Deserialisation](notebooks/4-serialisation-and-deserialisation)\n",
    "  5. [Summary and Conclusion](notebooks/5-summary-and-conclusion)"
   ]
  }
 ],
 "metadata": {
  "language_info": {
   "name": "python"
  }
 },
 "nbformat": 4,
 "nbformat_minor": 2
}
