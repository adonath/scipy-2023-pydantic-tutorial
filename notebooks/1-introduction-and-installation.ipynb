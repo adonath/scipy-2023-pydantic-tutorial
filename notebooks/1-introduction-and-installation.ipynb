{
 "cells": [
  {
   "attachments": {},
   "cell_type": "markdown",
   "metadata": {},
   "source": [
    "# Introduction"
   ]
  },
  {
   "attachments": {},
   "cell_type": "markdown",
   "metadata": {},
   "source": [
    "## Motivation\n",
    "\n",
    "One of the most controversial design choices of Python is the use of dynamic types. Dynamic types of variables can often lead to confusion for beginners, but also for experts it is a common sources of hard-to-find bugs. For this reason the concept of type annotations has been introduced later in the language to allow for static code analysis and more detailed source code documentation. However, type annotations are not enforced by the Python interpreter and therefore do not prevent the user from passing the wrong type of data to a function or class. This can lead to delayed code failure, bad user experiences, and difficult-to-find bugs."
   ]
  },
  {
   "attachments": {},
   "cell_type": "markdown",
   "metadata": {},
   "source": [
    "### **Example 1**: Dynamic typing can lead to unexpected behavior\n",
    "\n",
    "For beginners the dynamic typing of Python can be a source of confusion. Consider the following example:"
   ]
  },
  {
   "cell_type": "code",
   "execution_count": null,
   "metadata": {},
   "outputs": [],
   "source": [
    "def my_function(x):\n",
    "    return 2 * x\n",
    "\n",
    "\n",
    "# Expected behaviour\n",
    "print(my_function(3))\n",
    "\n",
    "# Half-Expected behaviour\n",
    "print(my_function(3.14))"
   ]
  },
  {
   "attachments": {},
   "cell_type": "markdown",
   "metadata": {},
   "source": [
    "Now we call the same method with a different type of argument:"
   ]
  },
  {
   "cell_type": "code",
   "execution_count": null,
   "metadata": {},
   "outputs": [],
   "source": [
    "# Possibly unexpected behaviour\n",
    "print(my_function(\"hello\"))"
   ]
  },
  {
   "cell_type": "code",
   "execution_count": null,
   "metadata": {},
   "outputs": [],
   "source": [
    "# Maybe even mor unexpected behaviour\n",
    "print(my_function(x=True))"
   ]
  },
  {
   "attachments": {},
   "cell_type": "markdown",
   "metadata": {},
   "source": [
    "Now let's define a different fucntion, which naively does the same as before:"
   ]
  },
  {
   "cell_type": "code",
   "execution_count": null,
   "metadata": {
    "tags": [
     "raises-exception"
    ]
   },
   "outputs": [],
   "source": [
    "def my_other_function(x):\n",
    "    return 2.0 * x\n",
    "\n",
    "\n",
    "# Now try this\n",
    "print(my_other_function(\"hello\"))"
   ]
  },
  {
   "attachments": {},
   "cell_type": "markdown",
   "metadata": {},
   "source": [
    "Python will \"happily\" execute the calls to `my_function`, but the result is possibly un-expected. In contrast the call to `my_other_function` fails. The reason is that the `*` operator is overloaded for strings / bools and integers, but not for strings and floats. This behaviou is built into the Python language and can not be changed. "
   ]
  },
  {
   "cell_type": "code",
   "execution_count": null,
   "metadata": {},
   "outputs": [],
   "source": [
    "value = \"hello\"\n",
    "type(value)"
   ]
  },
  {
   "attachments": {},
   "cell_type": "markdown",
   "metadata": {},
   "source": [
    "### **Example 2**: Delayed code failure with non-validated input data\n",
    "\n",
    "In this example we read an example input YAML file, which contains temperature data. The data is then used to calculate the average temperature. However, the input data is not validated and therefore the code will fail at a later point in time."
   ]
  },
  {
   "cell_type": "code",
   "execution_count": null,
   "metadata": {
    "tags": [
     "raises-exception"
    ]
   },
   "outputs": [],
   "source": [
    "import yaml\n",
    "\n",
    "\n",
    "def parse_data_into_lists(data):\n",
    "    \"\"\"Parse data into lists of values\"\"\"\n",
    "    temperature = [_[\"temperature\"] for _ in data]\n",
    "    time = [_[\"time\"] for _ in data]\n",
    "    return {\n",
    "        \"temperature\": temperature,\n",
    "        \"time\": time,\n",
    "    }\n",
    "\n",
    "\n",
    "with open(\"my-data.yaml\", \"r\") as fh:\n",
    "    data = yaml.safe_load(fh)\n",
    "\n",
    "processed = parse_data_into_lists(data=data)\n",
    "\n",
    "# Compute mean\n",
    "mean = sum(processed[\"temperature\"]) / len(processed[\"temperature\"])"
   ]
  },
  {
   "attachments": {},
   "cell_type": "markdown",
   "metadata": {},
   "source": [
    "This is especially annoying if the code is part of a larger application and the reading and processing takes time."
   ]
  },
  {
   "attachments": {},
   "cell_type": "markdown",
   "metadata": {},
   "source": [
    "### **Example 3**: A \"stupid bug\" example (happend to everyone in the past...)\n",
    "\n",
    "One last example is of the category \"stupid bug\": this includes typos, incorrect use of APIs and other mistakes that are easy to make and sometimes hard to find, often only by close inspection of the code. "
   ]
  },
  {
   "cell_type": "code",
   "execution_count": null,
   "metadata": {},
   "outputs": [],
   "source": [
    "from matplotlib import pyplot as plt\n",
    "\n",
    "x = [1, 2, 3, 4, 5]\n",
    "y = [my_function(i) for i in x]\n",
    "\n",
    "plt.plot(x, y)\n",
    "plt.xlabel(\"x\")\n",
    "plt.ylabel(\"y\")\n",
    "plt.xlim = (0, 6)  # Searching for half an hour why the plot has the wrong limits"
   ]
  },
  {
   "cell_type": "code",
   "execution_count": null,
   "metadata": {
    "tags": [
     "raises-exception"
    ]
   },
   "outputs": [],
   "source": [
    "plt.xlim(0, 6)  # Now trying to correct in the notebook...ops even more confusing..."
   ]
  },
  {
   "attachments": {},
   "cell_type": "markdown",
   "metadata": {},
   "source": [
    "### Refresher 1: Type Annotations\n",
    "\n",
    "Python 3 introduced type annotations as a way to document the expected types of variables, function arguments, and return values. Type annotations are **not enforced by the Python interpreter**, but can be used by external tools to perform static code analysis. The most popular tool for this purpose is [mypy](http://mypy-lang.org/).\n",
    "\n",
    "Quick survey:\n",
    "- Who knows what type annotations are?\n",
    "- Who is using type annotations regularly?\n",
    "- Who would like to use type annotations more, but is not doing it yet?\n",
    "\n"
   ]
  },
  {
   "cell_type": "code",
   "execution_count": null,
   "metadata": {},
   "outputs": [],
   "source": [
    "%%writefile my_script.py\n",
    "def my_function(x: int) -> int:\n",
    "    return 2 * x\n",
    "\n",
    "\n",
    "def my_other_function(x: float) -> float:\n",
    "    return 2.0 * x\n",
    "\n",
    "\n",
    "print(my_function(3))\n",
    "print(my_function(3.14))\n",
    "\n",
    "print(my_other_function(\"hello\"))"
   ]
  },
  {
   "cell_type": "code",
   "execution_count": null,
   "metadata": {},
   "outputs": [],
   "source": [
    "!cat my_script.py"
   ]
  },
  {
   "cell_type": "code",
   "execution_count": null,
   "metadata": {},
   "outputs": [],
   "source": [
    "!mypy my_script.py"
   ]
  },
  {
   "attachments": {},
   "cell_type": "markdown",
   "metadata": {},
   "source": [
    "However in certain cases it can be useful to have a way to enforce type annotations at runtime. This is where the [pydantic](https://pydantic-docs.helpmanual.io/) library comes into play. Pydantic is a library that allows to define data classes with type annotations and to validate the input data against the type annotations."
   ]
  },
  {
   "attachments": {},
   "cell_type": "markdown",
   "metadata": {},
   "source": []
  },
  {
   "attachments": {},
   "cell_type": "markdown",
   "metadata": {},
   "source": []
  },
  {
   "cell_type": "code",
   "execution_count": null,
   "metadata": {},
   "outputs": [],
   "source": [
    "\n"
   ]
  },
  {
   "attachments": {},
   "cell_type": "markdown",
   "metadata": {},
   "source": [
    "## Installation\n",
    "\n",
    "Of course https://docs.pydantic.dev/latest/install/\n",
    "\n",
    "Note https://docs.pydantic.dev/latest/blog/pydantic-v2-alpha/\n",
    "\n"
   ]
  },
  {
   "attachments": {},
   "cell_type": "markdown",
   "metadata": {},
   "source": []
  }
 ],
 "metadata": {
  "kernelspec": {
   "display_name": "scipy-2023-pydantic-tutorial",
   "language": "python",
   "name": "python3"
  },
  "language_info": {
   "codemirror_mode": {
    "name": "ipython",
    "version": 3
   },
   "file_extension": ".py",
   "mimetype": "text/x-python",
   "name": "python",
   "nbconvert_exporter": "python",
   "pygments_lexer": "ipython3",
   "version": "3.9.16"
  }
 },
 "nbformat": 4,
 "nbformat_minor": 2
}
