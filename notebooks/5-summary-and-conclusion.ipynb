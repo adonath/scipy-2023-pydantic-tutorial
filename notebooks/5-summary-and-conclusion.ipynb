{
 "cells": [
  {
   "attachments": {},
   "cell_type": "markdown",
   "metadata": {},
   "source": [
    "# Summary and Conclusion\n",
    "\n",
    "Pydantic is not meant to introduce static typing to Python \"trough the backdoor\". However it provides type conversion and validation where it brings the most value. Such it is a great tool to improve the user experience of scientific software and to make it more robust and easier to maintain.\n"
   ]
  }
 ],
 "metadata": {
  "language_info": {
   "name": "python"
  }
 },
 "nbformat": 4,
 "nbformat_minor": 2
}
