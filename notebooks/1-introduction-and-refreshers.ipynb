{
 "cells": [
  {
   "attachments": {},
   "cell_type": "markdown",
   "metadata": {},
   "source": [
    "# Introduction"
   ]
  },
  {
   "attachments": {},
   "cell_type": "markdown",
   "metadata": {},
   "source": [
    "## Motivation\n",
    "\n",
    "One of the most controversial design choices of Python is the use of dynamic types. Dynamic types of variables can often lead to confusion for beginners, but even for experts it is a common source of hard-to-find bugs. For this reason the concept of type annotations has been introduced later in the language to allow for static code analysis and more detailed source code documentation. However, type annotations are not enforced by the Python interpreter and therefore do not prevent the user from passing the wrong type of data to a function or class. This can lead to delayed code failure, bad user experiences, and difficult-to-find bugs."
   ]
  },
  {
   "attachments": {},
   "cell_type": "markdown",
   "metadata": {},
   "source": [
    "### **Example 1**: Dynamic typing can lead to unexpected behavior\n",
    "\n",
    "For beginners the dynamic typing of Python can be a source of confusion. Consider the following example:"
   ]
  },
  {
   "cell_type": "code",
   "execution_count": null,
   "metadata": {},
   "outputs": [],
   "source": [
    "def my_function(x):\n",
    "    return 2 * x\n",
    "\n",
    "\n",
    "# Expected behaviour\n",
    "print(my_function(3))\n",
    "\n",
    "# Half-Expected behaviour\n",
    "print(my_function(3.14))"
   ]
  },
  {
   "attachments": {},
   "cell_type": "markdown",
   "metadata": {},
   "source": [
    "Now we call the same method with a different type of argument:"
   ]
  },
  {
   "cell_type": "code",
   "execution_count": null,
   "metadata": {},
   "outputs": [],
   "source": [
    "# Possibly unexpected behaviour\n",
    "print(my_function(\"hello\"))"
   ]
  },
  {
   "cell_type": "code",
   "execution_count": null,
   "metadata": {},
   "outputs": [],
   "source": [
    "# Maybe even mor unexpected behaviour\n",
    "print(my_function(x=True))"
   ]
  },
  {
   "attachments": {},
   "cell_type": "markdown",
   "metadata": {},
   "source": [
    "Now let's define a different fucntion, which naively does the same as before:"
   ]
  },
  {
   "cell_type": "code",
   "execution_count": null,
   "metadata": {
    "tags": [
     "raises-exception"
    ]
   },
   "outputs": [],
   "source": [
    "def my_other_function(x):\n",
    "    return 2.0 * x\n",
    "\n",
    "\n",
    "# Now try this\n",
    "print(my_other_function(\"hello\"))"
   ]
  },
  {
   "attachments": {},
   "cell_type": "markdown",
   "metadata": {},
   "source": [
    "Python will \"happily\" execute the calls to `my_function`, but the result is possibly un-expected. In contrast the call to `my_other_function` fails. The reason is that the `*` operator is overloaded for strings / bools and integers, but not for strings and floats. This behaviour is built into the Python language and cannot really be changed. "
   ]
  },
  {
   "attachments": {},
   "cell_type": "markdown",
   "metadata": {},
   "source": [
    "### **Example 2**: Delayed code failure with non-validated input data\n",
    "\n",
    "In this example we read an example input YAML file, which contains temperature data. The data is then used to calculate the average temperature. However, the input data is not validated and therefore the code will fail at a later point in time."
   ]
  },
  {
   "cell_type": "code",
   "execution_count": null,
   "metadata": {
    "tags": [
     "raises-exception"
    ]
   },
   "outputs": [],
   "source": [
    "import yaml\n",
    "\n",
    "\n",
    "def parse_data_into_lists(data):\n",
    "    \"\"\"Parse data into lists of values\"\"\"\n",
    "    temperature = [_[\"temperature\"] for _ in data]\n",
    "    time = [_[\"time\"] for _ in data]\n",
    "    return {\n",
    "        \"temperature\": temperature,\n",
    "        \"time\": time,\n",
    "    }\n",
    "\n",
    "\n",
    "with open(\"my-data.yaml\", \"r\") as fh:\n",
    "    data = yaml.safe_load(fh)\n",
    "\n",
    "processed = parse_data_into_lists(data=data)\n",
    "\n",
    "# Compute mean\n",
    "mean = sum(processed[\"temperature\"]) / len(processed[\"temperature\"])"
   ]
  },
  {
   "attachments": {},
   "cell_type": "markdown",
   "metadata": {},
   "source": [
    "This is especially annoying if the code is part of a larger application and the reading and processing takes time."
   ]
  },
  {
   "attachments": {},
   "cell_type": "markdown",
   "metadata": {},
   "source": [
    "### **Example 3**: A \"stupid bug\" example (happend to everyone in the past...)\n",
    "\n",
    "One last example is of the category \"stupid bug\": this includes typos, incorrect use of APIs and other mistakes that are easy to make and sometimes hard to find, often only by close inspection of the code. "
   ]
  },
  {
   "cell_type": "code",
   "execution_count": null,
   "metadata": {},
   "outputs": [],
   "source": [
    "from matplotlib import pyplot as plt\n",
    "\n",
    "x = [1, 2, 3, 4, 5]\n",
    "y = [my_function(i) for i in x]\n",
    "\n",
    "plt.plot(x, y)\n",
    "plt.xlabel(\"x\")\n",
    "plt.ylabel(\"y\")\n",
    "plt.xlim = (0, 6)  # Searching for half an hour why the plot has the wrong limits"
   ]
  },
  {
   "cell_type": "code",
   "execution_count": null,
   "metadata": {
    "tags": [
     "raises-exception"
    ]
   },
   "outputs": [],
   "source": [
    "plt.xlim(0, 6)  # Now trying to correct in the notebook...ops even more confusing..."
   ]
  },
  {
   "attachments": {},
   "cell_type": "markdown",
   "metadata": {},
   "source": [
    "### Refresher 2: Class Definitions\n",
    "\n",
    "Quick survey:\n",
    "- Who knows what class definitions are?\n",
    "- Who is using class definitions regularly?\n",
    "- Who would like to use class definitons more, but is not doing it yet?\n",
    "\n",
    "\n",
    "Recall that classes in Python are defined with the `class` keyword followed by the name of the class (usually capitalized) and a colon. Class and instance methods are defined inside the class by indenting once. Let's create a simple class to represent a two dimensional point coordinate. We will add \"V1\" to the end of the class name so that we can make improvements later (\"V2\", \"V3\", etc.) and compare versions."
   ]
  },
  {
   "cell_type": "code",
   "execution_count": null,
   "metadata": {},
   "outputs": [],
   "source": [
    "class PointV1:\n",
    "    \"\"\"Representation of a two-dimensional point coordinate.\"\"\"\n",
    "\n",
    "    def __init__(self, x, y):\n",
    "        \"\"\"Initializes a PointV1 with the given coordinates.\"\"\"\n",
    "        self.x = x\n",
    "        self.y = y\n",
    "\n",
    "    def distance_to(self, other):\n",
    "        \"\"\"Computes the distance to another `PointV1`.\"\"\"\n",
    "        dx = self.x - other.x\n",
    "        dy = self.y - other.y\n",
    "        return (dx**2 + dy**2) ** 0.5"
   ]
  },
  {
   "attachments": {},
   "cell_type": "markdown",
   "metadata": {},
   "source": [
    "This class definition is correct and will behave as expected, assuming the user knows how to use the class properly. But this class suffers from two problems:\n",
    "\n",
    "First, users of this class may be able to understand that `x` and `y` are intended to be integers or floats. But they would need to look at the code in order to come to this conclusion and this may be difficult for more complex classes. This can be improved by modifying the docstrings to include the intended argument types, but we will soon see an even better way to show the user the intended argument and output types.\n",
    "\n",
    "Secondly, your IDE will not understand the intended argument and output types and thus will not highlight bugs such as the following:"
   ]
  },
  {
   "cell_type": "code",
   "execution_count": null,
   "metadata": {},
   "outputs": [],
   "source": [
    "p1 = PointV1(x=\"5\", y=\"7\")"
   ]
  },
  {
   "attachments": {},
   "cell_type": "markdown",
   "metadata": {},
   "source": [
    "Of course the user will discover the bug when attempting to compute the distance to another `PointV1`:"
   ]
  },
  {
   "cell_type": "code",
   "execution_count": null,
   "metadata": {
    "tags": [
     "raises-exception"
    ]
   },
   "outputs": [],
   "source": [
    "p2 = PointV1(x=-1, y=4)\n",
    "\n",
    "p1.distance_to(p2)"
   ]
  },
  {
   "attachments": {},
   "cell_type": "markdown",
   "metadata": {},
   "source": [
    "But it would be nice if your code editor (IDE) could highlight this mistake for you before even executing a single line of code."
   ]
  },
  {
   "attachments": {},
   "cell_type": "markdown",
   "metadata": {},
   "source": [
    "### Refresher 2: Type Annotations\n",
    "\n",
    "Introduced in Python 3.5, [type annotations](https://docs.python.org/3/library/typing.html) (also known as type hints) provide a mechanism to solve both problems simultaneously. \n",
    "\n",
    "Quick survey:\n",
    "- Who knows what type annotations are?\n",
    "- Who is using type annotations regularly?\n",
    "- Who would like to use type annotations more, but is not doing it yet?\n",
    "\n",
    "Intended types can be supplied after an argument or variable by separating the two with a colon. And output types can by supplied after the closing parenthesis and before the colon with an arrow `->`. Let's improve the `PointV1` class with type annotations."
   ]
  },
  {
   "cell_type": "code",
   "execution_count": null,
   "metadata": {},
   "outputs": [],
   "source": [
    "class PointV2:\n",
    "    \"\"\"Representation of a two-dimensional point coordinate.\"\"\"\n",
    "\n",
    "    def __init__(self, x: float, y: float) -> None:\n",
    "        \"\"\"Initializes a PointV2 with the given coordinates.\"\"\"\n",
    "        self.x = x\n",
    "        self.y = y\n",
    "\n",
    "    def distance_to(self, other: \"PointV2\") -> float:\n",
    "        \"\"\"Computes the distance to another `PointV2`.\"\"\"\n",
    "        dx = self.x - other.x\n",
    "        dy = self.y - other.y\n",
    "        return (dx**2 + dy**2) ** 0.5"
   ]
  },
  {
   "attachments": {
    "image-4.png": {
     "image/png": "[encoded data removed]"
    }
   },
   "cell_type": "markdown",
   "metadata": {},
   "source": [
    "The first problem is solved by clearly indicating the expected argument and output types. `x` and `y` are marked as `float` indicating that the user should provide `floats` for these arguments. The output of `__init__` is marked as `None` indicating that there is no value returned by this method. `other` is marked as `\"PointV2\"` to indicate that the the argument supplied to `distance_to` should be another `PointV2`. Note the quotes around `\"PointV2\"` because the `PointV2` class is not fully defined until after the body of the `PointV2` class. Most modern IDEs will understand that `\"PointV2\"` means `PointV2`. And the output of `distance_to` is marked as `float` to indicate that the output should a float.\n",
    "\n",
    "One other note is that `self` is not given any type hints. This is convention and modern IDEs will understand that `self` is a reference to an instance of `PointV2`.\n",
    "\n",
    "The second problem is solved because now your IDE will understand if you have a bug like the one above. For example, PyCharm will warn you by highlighting the offending pieces of code as in the following screen shot:\n",
    "\n",
    "![image-4.png](attachment:image-4.png)\n",
    "\n",
    "Notice the orange squiggly lines under `x=\"5\"` and `y=\"7\"` in the creation of `p1` and the lack of yellow squiggly lines under `x=-1` and `y=4` in the creation of `p2`."
   ]
  },
  {
   "attachments": {},
   "cell_type": "markdown",
   "metadata": {},
   "source": [
    "You can also use a tool such as [mypy](https://mypy-lang.org) to check the types of your code. Let's check the code in the example `my-script.py`:"
   ]
  },
  {
   "cell_type": "code",
   "execution_count": null,
   "metadata": {},
   "outputs": [],
   "source": [
    "!cat my-script.py"
   ]
  },
  {
   "cell_type": "code",
   "execution_count": null,
   "metadata": {},
   "outputs": [],
   "source": [
    "!mypy my-script.py"
   ]
  },
  {
   "attachments": {},
   "cell_type": "markdown",
   "metadata": {},
   "source": [
    "However it is important to repeat that type annotations are not enforced by the Python interpreter, but are typically only  used by external tools to perform static code analysis."
   ]
  },
  {
   "attachments": {},
   "cell_type": "markdown",
   "metadata": {},
   "source": [
    "### Refresher 3: Data Classes and \"Friends\"\n",
    "\n",
    "There is another small problem with the class definitions we introduced above: it includes a lot of so called [\"Boilerplate Code\"](https://en.wikipedia.org/wiki/Boilerplate_code). This is code that is just required to make the defintion work and does not add any functionality. In this case the boilerplate code is the `__init__` method. This method is required to initialize the class, but it does not add any functionality.\n",
    "\n",
    " In fact, the `__init__` method is so common that Python introduced various shortcuts in the standard library to simplfy the definiton of such data structures. The most common ones are:\n",
    " \n",
    " - the `dataclass` decorator\n",
    " - the `namedtuple` method\n",
    " - the `TypedDict` type\n",
    "\n",
    "\n",
    " Quick survey:\n",
    "  - Who has used `dataclass`, `namedtuple` or `TypedDict` before?\n",
    "\n",
    "\n",
    "Let's write the Point class, but this time using the `dataclass` decorator:"
   ]
  },
  {
   "cell_type": "code",
   "execution_count": null,
   "metadata": {},
   "outputs": [],
   "source": [
    "from dataclasses import dataclass\n",
    "\n",
    "\n",
    "@dataclass\n",
    "class PointV3:\n",
    "    \"\"\"Representation of a two-dimensional point coordinate.\"\"\"\n",
    "\n",
    "    x: float\n",
    "    y: float\n",
    "\n",
    "    def distance_to(self, other: \"PointV3\") -> float:\n",
    "        \"\"\"Computes the distance to another `PointV3`.\"\"\"\n",
    "        dx = self.x - other.x\n",
    "        dy = self.y - other.y\n",
    "        return (dx**2 + dy**2) ** 0.5"
   ]
  },
  {
   "attachments": {},
   "cell_type": "markdown",
   "metadata": {},
   "source": [
    "This allows to simplify the class definition and skip the definiton of the `__init__` method."
   ]
  },
  {
   "cell_type": "code",
   "execution_count": null,
   "metadata": {},
   "outputs": [],
   "source": [
    "p1 = PointV3(x=5, y=7)\n",
    "p2 = PointV3(x=-1, y=4)\n",
    "print(p1.distance_to(other=p2))"
   ]
  },
  {
   "attachments": {},
   "cell_type": "markdown",
   "metadata": {},
   "source": [
    "There are similar concepts to `dataclass`, such as `namedtuple`, which allows to define a class with a fixed set of attributes:"
   ]
  },
  {
   "cell_type": "code",
   "execution_count": null,
   "metadata": {},
   "outputs": [],
   "source": [
    "from collections import namedtuple\n",
    "\n",
    "PointV4 = namedtuple(\"PointV4\", \"x y\")\n",
    "\n",
    "p1 = PointV4(x=5, y=7)\n",
    "\n",
    "display(p1)"
   ]
  },
  {
   "attachments": {},
   "cell_type": "markdown",
   "metadata": {},
   "source": [
    "However they have very specific use cases and are not as flexible as `dataclass`. For example, `namedtuple` does not directly allow to define methods and attributes are immutable:"
   ]
  },
  {
   "cell_type": "code",
   "execution_count": null,
   "metadata": {
    "tags": [
     "raises-exception"
    ]
   },
   "outputs": [],
   "source": [
    "p1.x = 64"
   ]
  },
  {
   "attachments": {},
   "cell_type": "markdown",
   "metadata": {},
   "source": [
    "Another variation is to use a `TypedDict` to define a class with a fixed set of attributes:"
   ]
  },
  {
   "cell_type": "code",
   "execution_count": null,
   "metadata": {},
   "outputs": [],
   "source": [
    "from typing import TypedDict\n",
    "\n",
    "\n",
    "class PointV5(TypedDict):\n",
    "    x: float\n",
    "    y: float"
   ]
  },
  {
   "attachments": {},
   "cell_type": "markdown",
   "metadata": {},
   "source": [
    "However this is used in a rather unconventional way:"
   ]
  },
  {
   "cell_type": "code",
   "execution_count": null,
   "metadata": {},
   "outputs": [],
   "source": [
    "p1: PointV5 = {\"x\": 5, \"y\": 7}"
   ]
  },
  {
   "attachments": {},
   "cell_type": "markdown",
   "metadata": {},
   "source": [
    "And as with the other classes, the types are not enforced during runtime, such that they can be changed anytime later:"
   ]
  },
  {
   "cell_type": "code",
   "execution_count": null,
   "metadata": {},
   "outputs": [],
   "source": [
    "p1[\"x\"] = \"34\""
   ]
  },
  {
   "attachments": {},
   "cell_type": "markdown",
   "metadata": {},
   "source": [
    "The `TypedDict` is again mostly useful for static code analysis, in which case the statement above would be highlighted as an error. \n",
    "\n",
    "All these limitations and issues listed above can be addressed with the [pydantic](https://pydantic-docs.helpmanual.io/) library. This library allows to define data classes with type annotations and to validate the input data against the type annotations.\n",
    "\n",
    "## Exercise 1:\n",
    "\n",
    "- Just take some time to briefly discuss with your neighbours the examples where dynamic typing leads to unexpected behaviour. Have you encountered similar issues in the past? How did you solve them? \n",
    "- Also take some time to dicuss the concepts of type annotations, class definitions and data classes we reviewed above. Have you used them in the past? What are your experiences? "
   ]
  }
 ],
 "metadata": {
  "kernelspec": {
   "display_name": "scipy-2023-pydantic-tutorial",
   "language": "python",
   "name": "python3"
  },
  "language_info": {
   "codemirror_mode": {
    "name": "ipython",
    "version": 3
   },
   "file_extension": ".py",
   "mimetype": "text/x-python",
   "name": "python",
   "nbconvert_exporter": "python",
   "pygments_lexer": "ipython3",
   "version": "3.9.16"
  }
 },
 "nbformat": 4,
 "nbformat_minor": 2
}
