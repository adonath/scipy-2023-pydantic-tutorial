{
 "cells": [
  {
   "attachments": {},
   "cell_type": "markdown",
   "metadata": {},
   "source": [
    "# Advanced Usage I"
   ]
  },
  {
   "attachments": {},
   "cell_type": "markdown",
   "metadata": {},
   "source": [
    "## Complex Types\n",
    "\n",
    "We have already seen how to define classes / models using simple types, such as `int`, `float`, `str`, `bool`, etc. However in practice data structures are often more complex. They include for examples dictionaries, list of lists, or mutiple allowed types. Of course Pydantic also supports these more complex types, such as lists, dictionaries, enums, and unions. In the following we will see an overview of those types and how to use them:"
   ]
  },
  {
   "attachments": {},
   "cell_type": "markdown",
   "metadata": {},
   "source": [
    "\n",
    "### Typed Lists and Dictionaries\n",
    "\n",
    "Lists and dictionaries are very common data structures in Python. Pydantic supports typed lists and dictionaries, which means that we can also define the type of the elements in the list or the type of the values in the dictionary.\n",
    "Typed lists and dictionaries are defined using the `list` and `dict` generic types. For example, we can define a model with a list of floats as follows:"
   ]
  },
  {
   "cell_type": "code",
   "execution_count": null,
   "metadata": {},
   "outputs": [],
   "source": [
    "from pydantic import BaseModel\n",
    "\n",
    "\n",
    "class LineV1(BaseModel):\n",
    "    \"\"\"A Line object represented by two lists of coordinates\"\"\"\n",
    "\n",
    "    x: list[float]\n",
    "    y: list[float]\n",
    "\n",
    "    def length(self):\n",
    "        \"\"\"Line length computed by summing over the distance between points\"\"\"\n",
    "        length = 0\n",
    "\n",
    "        for idx in range(len(self.x) - 1):\n",
    "            length += (\n",
    "                (self.x[idx] - self.x[idx + 1]) ** 2\n",
    "                + (self.y[idx] - self.y[idx + 1]) ** 2\n",
    "            ) ** 0.5\n",
    "\n",
    "        return length"
   ]
  },
  {
   "attachments": {},
   "cell_type": "markdown",
   "metadata": {},
   "source": [
    "Instanciation of the model works as expected:"
   ]
  },
  {
   "cell_type": "code",
   "execution_count": null,
   "metadata": {},
   "outputs": [],
   "source": [
    "line_v1 = LineV1(x=[0, 1, 3], y=[0, 1, 2])\n",
    "display(line_v1)"
   ]
  },
  {
   "cell_type": "code",
   "execution_count": null,
   "metadata": {},
   "outputs": [],
   "source": [
    "print(line_v1.length())"
   ]
  },
  {
   "attachments": {},
   "cell_type": "markdown",
   "metadata": {},
   "source": [
    "The behavior is exactly the same as for simple types. So values are converted to the specified type if possible:"
   ]
  },
  {
   "cell_type": "code",
   "execution_count": null,
   "metadata": {},
   "outputs": [],
   "source": [
    "line_v1 = LineV1(x=[0, 1, \"3\"], y=[0, True, 2])\n",
    "display(line_v1)"
   ]
  },
  {
   "attachments": {},
   "cell_type": "markdown",
   "metadata": {},
   "source": [
    "If the type cannot be converted a `ValidationError` is raised:"
   ]
  },
  {
   "cell_type": "code",
   "execution_count": null,
   "metadata": {
    "tags": [
     "raises-exception"
    ]
   },
   "outputs": [],
   "source": [
    "line_v1 = LineV1(x=[0, 1, \"10^-2\"], y=[0, 1, 2])\n",
    "display(line_v1)"
   ]
  },
  {
   "attachments": {},
   "cell_type": "markdown",
   "metadata": {},
   "source": [
    "Note that pydantic indicates the index of the invalid value in the error message using `x -> 2`."
   ]
  },
  {
   "attachments": {},
   "cell_type": "markdown",
   "metadata": {},
   "source": [
    "Typed dictionaries are defined in a similar way using the `dict` generic type:"
   ]
  },
  {
   "cell_type": "code",
   "execution_count": null,
   "metadata": {},
   "outputs": [],
   "source": [
    "from pydantic import BaseModel\n",
    "\n",
    "\n",
    "class LineV2(BaseModel):\n",
    "    \"\"\"A Line object represented by two lists of coordinates\"\"\"\n",
    "\n",
    "    coordinates: dict[str, list[float]]\n",
    "\n",
    "    def length(self):\n",
    "        \"\"\"Line length computed by summing over the distance between points\"\"\"\n",
    "        length = 0\n",
    "        x = self.coordinates[\"x\"]\n",
    "        y = self.coordinates[\"y\"]\n",
    "\n",
    "        for idx in range(len(x) - 1):\n",
    "            length += ((x[idx] - x[idx + 1]) ** 2 + (y[idx] - y[idx + 1]) ** 2) ** 0.5\n",
    "\n",
    "        return length"
   ]
  },
  {
   "cell_type": "code",
   "execution_count": null,
   "metadata": {},
   "outputs": [],
   "source": [
    "data = {\n",
    "    \"x\": [0, 1, 3],\n",
    "    \"y\": [0, 1, 2],\n",
    "}"
   ]
  },
  {
   "attachments": {},
   "cell_type": "markdown",
   "metadata": {},
   "source": [
    "### Enums and Union Types\n",
    "\n",
    "In many cases it is useful to provide users with a selection of valid values, such as a choice of strings. The data structure to handle this is called `Enum`. Enums are defined using the `Enum` generic type in Python. For example, we can define a selection for the line color:\n"
   ]
  },
  {
   "cell_type": "code",
   "execution_count": null,
   "metadata": {},
   "outputs": [],
   "source": [
    "from pydantic import BaseModel\n",
    "from enum import Enum\n",
    "\n",
    "\n",
    "class LineColor(str, Enum):\n",
    "    \"\"\"Line color enum\"\"\"\n",
    "\n",
    "    red = \"red\"\n",
    "    green = \"green\"\n",
    "    blue = \"blue\""
   ]
  },
  {
   "attachments": {},
   "cell_type": "markdown",
   "metadata": {},
   "source": [
    "And add this to the definiton of the line class:"
   ]
  },
  {
   "cell_type": "code",
   "execution_count": null,
   "metadata": {},
   "outputs": [],
   "source": [
    "class ColoredLine(BaseModel):\n",
    "    \"\"\"A Line object that can be used to represent a line.\"\"\"\n",
    "\n",
    "    x: list[float]\n",
    "    y: list[float]\n",
    "    color: LineColor = LineColor.red\n",
    "\n",
    "    def length(self):\n",
    "        \"\"\"Length of the line\"\"\"\n",
    "        length = 0\n",
    "\n",
    "        for idx in range(len(self.x) - 1):\n",
    "            length += (\n",
    "                (self.x[idx] - self.x[idx + 1]) ** 2\n",
    "                + (self.y[idx] - self.y[idx + 1]) ** 2\n",
    "            ) ** 0.5\n",
    "\n",
    "        return length"
   ]
  },
  {
   "attachments": {},
   "cell_type": "markdown",
   "metadata": {},
   "source": [
    "On initialisation we can now pass a color:"
   ]
  },
  {
   "cell_type": "code",
   "execution_count": null,
   "metadata": {},
   "outputs": [],
   "source": [
    "colored_line = ColoredLine(x=[0, 1, 2], y=[0, 1, 2], color=\"red\")\n",
    "display(colored_line)"
   ]
  },
  {
   "attachments": {},
   "cell_type": "markdown",
   "metadata": {},
   "source": [
    "Now let's try an invalid color:"
   ]
  },
  {
   "cell_type": "code",
   "execution_count": null,
   "metadata": {
    "tags": [
     "raises-exception"
    ]
   },
   "outputs": [],
   "source": [
    "colored_line = ColoredLine(x=[0, 1, 2], y=[0, 1, 2], color=\"purple\")"
   ]
  },
  {
   "attachments": {},
   "cell_type": "markdown",
   "metadata": {},
   "source": [
    "Pydantic now gives a useful error message, saying that the value is not a valid enumeration member; and it also lists the valid choices.\n",
    "\n",
    "**Note:** that there is https://github.com/pydantic/pydantic-extra-types, which provides support for validation of CSS colors. `from pydantic.color import Color`, so there is actually no reason to implement this ourselves."
   ]
  },
  {
   "cell_type": "code",
   "execution_count": null,
   "metadata": {},
   "outputs": [],
   "source": [
    "from typing import Union\n",
    "\n",
    "from pydantic import BaseModel\n",
    "from enum import Enum\n",
    "\n",
    "\n",
    "class LineColor(str, Enum):\n",
    "    \"\"\"Line color enum\"\"\"\n",
    "\n",
    "    red = \"red\"\n",
    "    green = \"green\"\n",
    "    blue = \"blue\"\n",
    "\n",
    "\n",
    "class LineV2(BaseModel):\n",
    "    \"\"\"A Line object that can be used to represent a line.\"\"\"\n",
    "\n",
    "    x: list[float]\n",
    "    y: list[float]\n",
    "    color: Union[LineColor, None] = LineColor.red"
   ]
  },
  {
   "attachments": {},
   "cell_type": "markdown",
   "metadata": {},
   "source": [
    "\n",
    "### Datetime Types\n",
    "\n",
    "Another very useful advanced type is the `datetime`, which lets users handle dates and times. Pydantic natively supports parsing and validation of datetime types. This relies on the Python standard library (see https://docs.python.org/3/library/datetime.html). Let's take a look at an example:\n",
    "\n"
   ]
  },
  {
   "cell_type": "code",
   "execution_count": null,
   "metadata": {},
   "outputs": [],
   "source": [
    "from datetime import datetime\n",
    "\n",
    "\n",
    "class LonLatTimeVector(BaseModel):\n",
    "    \"\"\"Represents a position on earth with time.\"\"\"\n",
    "\n",
    "    lon: float = 0.0\n",
    "    lat: float = 0.0\n",
    "    time: datetime = None\n",
    "\n",
    "\n",
    "position = LonLatTimeVector(lon=1.0, lat=2.0, time=datetime.now())\n",
    "display(position)"
   ]
  },
  {
   "cell_type": "code",
   "execution_count": null,
   "metadata": {},
   "outputs": [],
   "source": [
    "type(position.time)"
   ]
  },
  {
   "cell_type": "code",
   "execution_count": null,
   "metadata": {},
   "outputs": [],
   "source": [
    "position.time.isoformat()"
   ]
  },
  {
   "attachments": {},
   "cell_type": "markdown",
   "metadata": {},
   "source": [
    "`datetime.now()` already creates a `datetime` object, but pydantic also supports other valid formats, such as:"
   ]
  },
  {
   "cell_type": "code",
   "execution_count": null,
   "metadata": {},
   "outputs": [],
   "source": [
    "# Time in ISO format\n",
    "position = LonLatTimeVector(time=\"2021-01-01T00:00:00\")\n",
    "display(position)"
   ]
  },
  {
   "cell_type": "code",
   "execution_count": null,
   "metadata": {},
   "outputs": [],
   "source": [
    "# Ints or floats interpred as unix time, i.e. seconds since 1970-01-01T00:00:00\n",
    "position = LonLatTimeVector(time=1609459200)\n",
    "display(position)"
   ]
  },
  {
   "attachments": {},
   "cell_type": "markdown",
   "metadata": {},
   "source": [
    "Let's try to pass an invalid datetime:"
   ]
  },
  {
   "cell_type": "code",
   "execution_count": null,
   "metadata": {
    "tags": [
     "raises-exception"
    ]
   },
   "outputs": [],
   "source": [
    "position = LonLatTimeVector(time=\"2021-01-01\")"
   ]
  },
  {
   "attachments": {},
   "cell_type": "markdown",
   "metadata": {},
   "source": [
    "### Other Types\n",
    "\n",
    "There is a variety of other useful types built into pydantic. We have e.g. already mentioned the `Color` type above. Most of these types are mostly relevant for web development but, non-the-less, it is good to know that they exist. For an overview of those types see https://docs.pydantic.dev/latest/usage/types/#pydantic-types and also https://github.com/pydantic/pydantic-extra-types (unreleased)."
   ]
  },
  {
   "attachments": {},
   "cell_type": "markdown",
   "metadata": {},
   "source": [
    "### Custom Data Types / Hierarchical Structures\n",
    "\n",
    "One of the most powerful features of Pydantic is the ability to combine models to create hierarchical structures. This is done simply by using an existing pydantix model as type. For example we easily define a triangle using three points:\n"
   ]
  },
  {
   "cell_type": "code",
   "execution_count": null,
   "metadata": {},
   "outputs": [],
   "source": [
    "from pydantic import BaseModel\n",
    "\n",
    "\n",
    "class Point(BaseModel):\n",
    "    \"\"\"Representation of a two-dimensional point coordinate.\"\"\"\n",
    "\n",
    "    x: float\n",
    "    y: float\n",
    "\n",
    "    def distance_to(self, other: \"Point\") -> float:\n",
    "        \"\"\"Computes the distance to another `PointV3`.\"\"\"\n",
    "        dx = self.x - other.x\n",
    "        dy = self.y - other.y\n",
    "        return (dx**2 + dy**2) ** 0.5\n",
    "\n",
    "\n",
    "class Triangle(BaseModel):\n",
    "    \"\"\"Representation of a triangle\"\"\"\n",
    "\n",
    "    point_a: Point = Point(x=0, y=0)\n",
    "    point_b: Point = Point(x=1, y=0)\n",
    "    point_c: Point = Point(x=0, y=1)\n",
    "\n",
    "    def circumference(self):\n",
    "        \"\"\"Circumference of the triangle\"\"\"\n",
    "        return (\n",
    "            self.point_a.distance_to(self.point_b)\n",
    "            + self.point_b.distance_to(self.point_c)\n",
    "            + self.point_c.distance_to(self.point_a)\n",
    "        )\n",
    "\n",
    "\n",
    "triangle = Triangle(\n",
    "    point_a=Point(x=0, y=0),\n",
    "    point_b=Point(x=0.5, y=0),\n",
    "    point_c=Point(x=0, y=0.5),\n",
    ")\n",
    "\n",
    "display(triangle)"
   ]
  },
  {
   "cell_type": "code",
   "execution_count": null,
   "metadata": {},
   "outputs": [],
   "source": [
    "print(triangle.circumference())"
   ]
  },
  {
   "attachments": {},
   "cell_type": "markdown",
   "metadata": {},
   "source": [
    "Alternatively in this case we can also pass a dictionary to the model without creating the `Point` instances first:"
   ]
  },
  {
   "cell_type": "code",
   "execution_count": null,
   "metadata": {},
   "outputs": [],
   "source": [
    "triangle = Triangle(\n",
    "    point_a={\"x\": 0, \"y\": 0.5},\n",
    "    point_b={\"x\": 0.5, \"y\": 0},\n",
    "    point_c={\"x\": 0, \"y\": 0},\n",
    ")\n",
    "\n",
    "print(triangle.circumference())"
   ]
  },
  {
   "attachments": {},
   "cell_type": "markdown",
   "metadata": {},
   "source": [
    "Pydantic will automatically convert the dictionaries to `Point` instances by passing the arguments to `Point(**kwargs)`. This is already a preview of the serialization and deserialization of models into dictionaries and hierarchical languages such as JSON, YAML and TOML. Let's quickly verify the type of the point:"
   ]
  },
  {
   "cell_type": "code",
   "execution_count": null,
   "metadata": {},
   "outputs": [],
   "source": [
    "type(triangle.point_a)"
   ]
  },
  {
   "attachments": {},
   "cell_type": "markdown",
   "metadata": {},
   "source": [
    "Of course this also works for list of `Point` objects. For example we can rewrite the definition of the `Line` class we introduced above as follows:"
   ]
  },
  {
   "cell_type": "code",
   "execution_count": null,
   "metadata": {},
   "outputs": [],
   "source": [
    "from pydantic import BaseModel\n",
    "\n",
    "\n",
    "class Point(BaseModel):\n",
    "    \"\"\"Representation of a two-dimensional point coordinate.\"\"\"\n",
    "\n",
    "    x: float\n",
    "    y: float\n",
    "\n",
    "    def distance_to(self, other: \"Point\") -> float:\n",
    "        \"\"\"Computes the distance to another `PointV3`.\"\"\"\n",
    "        dx = self.x - other.x\n",
    "        dy = self.y - other.y\n",
    "        return (dx**2 + dy**2) ** 0.5\n",
    "\n",
    "\n",
    "class LineV3(BaseModel):\n",
    "    \"\"\"Line object represented by a list of points\"\"\"\n",
    "\n",
    "    points: list[Point]\n",
    "\n",
    "    def length(self):\n",
    "        \"\"\"Line length computed by summing over the distance between points\"\"\"\n",
    "        length = 0\n",
    "\n",
    "        for point, next_point in zip(self.points[:-1], self.points[1:]):\n",
    "            length += point.distance_to(next_point)\n",
    "\n",
    "        return length"
   ]
  },
  {
   "attachments": {},
   "cell_type": "markdown",
   "metadata": {},
   "source": [
    "Which can now be used as follows:"
   ]
  },
  {
   "cell_type": "code",
   "execution_count": null,
   "metadata": {},
   "outputs": [],
   "source": [
    "line_v3 = LineV3(points=[Point(x=0, y=0), Point(x=1, y=1)])\n",
    "display(line_v3)"
   ]
  },
  {
   "cell_type": "code",
   "execution_count": null,
   "metadata": {},
   "outputs": [],
   "source": [
    "print(line_v3.length())"
   ]
  },
  {
   "attachments": {},
   "cell_type": "markdown",
   "metadata": {},
   "source": [
    "If you compare to our first implementation at the beginning the `LineV3` is more compact, better readable and more elegant. "
   ]
  },
  {
   "attachments": {},
   "cell_type": "markdown",
   "metadata": {},
   "source": [
    "### Private Attributes\n",
    "\n",
    "By default all attributes of a Pydantic model are public. However, sometimes we want to define private attributes, which are not accessible from outside the model. This can be done using the `ClassVar` and `PrivateAttr` types. The `ClassVar` type is used to define class variables, which are shared by all instances of the class. The `PrivateAttr` type is used to define private attributes, which are not accessible from outside the model. The following example shows how to use these types in more detail:"
   ]
  },
  {
   "cell_type": "code",
   "execution_count": null,
   "metadata": {},
   "outputs": [],
   "source": [
    "class LineV4(BaseModel):\n",
    "    \"\"\"Line object represented by a list of points\"\"\"\n",
    "\n",
    "    points = list[Point]\n",
    "\n",
    "    def length(self):\n",
    "        \"\"\"Line length computed by summing over the distance between points\"\"\"\n",
    "        length = 0\n",
    "\n",
    "        for point, next_point in zip(self.points[:-1], self.points[1:]):\n",
    "            length += point.distance_to(next_point)\n",
    "\n",
    "        return length"
   ]
  },
  {
   "attachments": {},
   "cell_type": "markdown",
   "metadata": {},
   "source": [
    "`Config.underscore_attrs_are_private` is `True`"
   ]
  }
 ],
 "metadata": {
  "kernelspec": {
   "display_name": "Python 3 (ipykernel)",
   "language": "python",
   "name": "python3"
  },
  "language_info": {
   "codemirror_mode": {
    "name": "ipython",
    "version": 3
   },
   "file_extension": ".py",
   "mimetype": "text/x-python",
   "name": "python",
   "nbconvert_exporter": "python",
   "pygments_lexer": "ipython3",
   "version": "3.9.16"
  }
 },
 "nbformat": 4,
 "nbformat_minor": 2
}
